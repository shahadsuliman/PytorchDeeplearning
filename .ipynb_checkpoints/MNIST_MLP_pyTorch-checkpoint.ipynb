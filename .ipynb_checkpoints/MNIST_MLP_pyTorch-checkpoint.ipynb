{
 "cells": [
  {
   "cell_type": "code",
   "execution_count": 59,
   "metadata": {
    "collapsed": true
   },
   "outputs": [],
   "source": [
    "import numpy as np\n",
    "import pandas as pd\n",
    "import matplotlib.pyplot as plt\n",
    "\n",
    "from sklearn.model_selection import train_test_split\n",
    "%matplotlib inline"
   ]
  },
  {
   "cell_type": "code",
   "execution_count": 60,
   "metadata": {
    "collapsed": false
   },
   "outputs": [],
   "source": [
    "import torch \n",
    "import torch.nn as nn \n",
    "import torch.nn.functional as F\n",
    "from torch.utils.data import Dataset, DataLoader"
   ]
  },
  {
   "cell_type": "code",
   "execution_count": 61,
   "metadata": {
    "collapsed": false
   },
   "outputs": [],
   "source": [
    "import torchvision\n",
    "import torchvision.transforms as transforms\n",
    "from torchvision.utils import make_grid"
   ]
  },
  {
   "cell_type": "markdown",
   "metadata": {},
   "source": [
    "## Building a Custom Dataset class"
   ]
  },
  {
   "cell_type": "code",
   "execution_count": 62,
   "metadata": {
    "collapsed": false
   },
   "outputs": [],
   "source": [
    "class MNIST(Dataset):\n",
    "    def __init__(self, X, y=None, transform=None):\n",
    "        self.X = X\n",
    "        self.y = y\n",
    "        self.transform = transform\n",
    "        \n",
    "    def __len__(self):\n",
    "        return len(self.X.index)\n",
    "    \n",
    "    def __getitem__(self, index):\n",
    "        image = self.X.iloc[index, ].values.astype(np.uint8).reshape((28, 28, 1))\n",
    "        \n",
    "        if self.transform is not None:\n",
    "            image = self.transform(image)\n",
    "            \n",
    "        if self.y is not None:\n",
    "            return image, self.y.iloc[index]\n",
    "        else:\n",
    "            return image\n"
   ]
  },
  {
   "cell_type": "markdown",
   "metadata": {},
   "source": [
    "## Load train and test datasets and split the training dataset to X and Y "
   ]
  },
  {
   "cell_type": "code",
   "execution_count": 71,
   "metadata": {
    "collapsed": false
   },
   "outputs": [],
   "source": [
    "train = r\"C:\\Users\\shahad\\Anaconda3\\dlcourse\\local git repo\\Pytorch\\dataset\\train.csv\"\n",
    "test = r\"C:\\Users\\shahad\\Anaconda3\\dlcourse\\local git repo\\Pytorch\\dataset\\test.csv\"\n",
    "\n",
    "#1) Read train dataset as CSV \n",
    "train_df = pd.read_csv(train)\n",
    "x_train = train_df.iloc[:,1:] #Remove the label column \n",
    "y_train = train_df['label'] \n",
    "#2) Read test dataset as CSV\n",
    "test_df = pd.read_csv(test)\n"
   ]
  },
  {
   "cell_type": "code",
   "execution_count": 73,
   "metadata": {
    "collapsed": false
   },
   "outputs": [
    {
     "name": "stdout",
     "output_type": "stream",
     "text": [
      "The input size:  785\n"
     ]
    }
   ],
   "source": [
    "\n",
    "print(\"The input size: \", train_df.iloc[0].size) #28*28 size \n"
   ]
  },
  {
   "cell_type": "code",
   "execution_count": 76,
   "metadata": {
    "collapsed": false
   },
   "outputs": [
    {
     "name": "stdout",
     "output_type": "stream",
     "text": [
      "\n",
      "The length of train dataset is : 42000\n",
      "The length of test dataset is : 28000\n"
     ]
    }
   ],
   "source": [
    "#define the transform before initiating the custum dataset\n",
    "transform = transforms.ToTensor()\n",
    "\n",
    "train_dataset = MNIST(X=x_train, y=y_train, transform=transform)\n",
    "print()\n",
    "test_dataset = MNIST(X=test_df,transform=transform)\n",
    "print(\"The length of train dataset is :\",len(train_dataset))\n",
    "print(\"The length of test dataset is :\",len(test_dataset))"
   ]
  },
  {
   "cell_type": "markdown",
   "metadata": {},
   "source": [
    "## Add a validation set"
   ]
  },
  {
   "cell_type": "code",
   "execution_count": 77,
   "metadata": {
    "collapsed": false
   },
   "outputs": [],
   "source": [
    "from torch.utils.data.sampler import SubsetRandomSampler\n",
    "\n",
    "# percentage of training set to use as validation\n",
    "valid_size = 0.2\n",
    "\n",
    "# obtain training indices that will be used for validation\n",
    "num_train = len(train_df)\n",
    "indices = list(range(num_train))\n",
    "#Shuffle \n",
    "np.random.shuffle(indices)\n",
    "split = int(np.floor(valid_size * num_train))\n",
    "train_idx, valid_idx = indices[split:], indices[:split]\n",
    "\n",
    "# define samplers for obtaining training and validation batches\n",
    "train_sampler = SubsetRandomSampler(train_idx)\n",
    "valid_sampler = SubsetRandomSampler(valid_idx)\n",
    "\n",
    "#Define loaders \n",
    "train_loader = torch.utils.data.DataLoader(dataset=train_dataset, batch_size=20, \n",
    "                                           sampler=train_sampler)\n",
    "validation_loader = torch.utils.data.DataLoader(dataset=train_dataset, batch_size=20,\n",
    "                                                sampler=valid_sampler)"
   ]
  },
  {
   "cell_type": "markdown",
   "metadata": {},
   "source": [
    "### Test the defined loaders"
   ]
  },
  {
   "cell_type": "code",
   "execution_count": 79,
   "metadata": {
    "collapsed": false,
    "scrolled": true
   },
   "outputs": [
    {
     "name": "stdout",
     "output_type": "stream",
     "text": [
      "images shape on PyTroch :  torch.Size([20, 1, 28, 28])\n",
      "labels shape on PyTroch :  torch.Size([20])\n"
     ]
    }
   ],
   "source": [
    "dataiter = iter(validation_loader)\n",
    "images, labels = dataiter.next()\n",
    "print('images shape on PyTroch : ', images.size())\n",
    "print('labels shape on PyTroch : ', labels.size())"
   ]
  },
  {
   "cell_type": "markdown",
   "metadata": {
    "collapsed": true,
    "deletable": true,
    "editable": true
   },
   "source": [
    "## Visualize the Data"
   ]
  },
  {
   "cell_type": "code",
   "execution_count": 80,
   "metadata": {
    "collapsed": false
   },
   "outputs": [
    {
     "data": {
      "image/png": "[encoded data removed]",
      "text/plain": [
       "<matplotlib.figure.Figure at 0x26bd66bf438>"
      ]
     },
     "metadata": {},
     "output_type": "display_data"
    }
   ],
   "source": [
    "# obtain one batch of training images\n",
    "dataiter = iter(train_loader)\n",
    "images, labels = dataiter.next()\n",
    "images = images.numpy()\n",
    "\n",
    "# plot the images in the batch, along with the corresponding labels\n",
    "fig = plt.figure(figsize=(25, 4))\n",
    "for idx in np.arange(20):\n",
    "    ax = fig.add_subplot(2, 20/2, idx+1, xticks=[], yticks=[])\n",
    "    ax.imshow(np.squeeze(images[idx]), cmap='gray')\n",
    "    # print out the correct label for each image\n",
    "    # .item() gets the value contained in a Tensor\n",
    "    ax.set_title(str(labels[idx].item()))"
   ]
  },
  {
   "cell_type": "markdown",
   "metadata": {},
   "source": [
    "## Another (and quite simpler) way to visualize the data "
   ]
  },
  {
   "cell_type": "code",
   "execution_count": 136,
   "metadata": {
    "collapsed": false
   },
   "outputs": [
    {
     "name": "stdout",
     "output_type": "stream",
     "text": [
      "torch.Size([20, 1, 28, 28])\n",
      "torch.Size([20, 1, 28, 28])\n",
      "torch.Size([3, 1, 28, 28])\n"
     ]
    },
    {
     "data": {
      "text/plain": [
       "(-0.5, 151.5, 121.5, -0.5)"
      ]
     },
     "execution_count": 136,
     "metadata": {},
     "output_type": "execute_result"
    },
    {
     "data": {
      "image/png": "[encoded data removed]",
      "text/plain": [
       "<matplotlib.figure.Figure at 0x26bd6caa4e0>"
      ]
     },
     "metadata": {
      "needs_background": "light"
     },
     "output_type": "display_data"
    },
    {
     "data": {
      "image/png": "[encoded data removed]",
      "text/plain": [
       "<matplotlib.figure.Figure at 0x26bd6519f60>"
      ]
     },
     "metadata": {
      "needs_background": "light"
     },
     "output_type": "display_data"
    }
   ],
   "source": [
    "dataiter = iter(train_loader)\n",
    "images, labels = dataiter.next()\n",
    "print(images.shape)\n",
    "print(images[:25].shape)\n",
    "print(images[:3].shape) #Just for testing, any number > 20 will be considered as 20 by default \n",
    "grid = make_grid(images[:25], nrow=5)\n",
    "fig, ax = plt.subplots(figsize=(15, 10))\n",
    "fig, ax = plt.subplots(figsize=(15, 10))\n",
    "ax.imshow(grid.numpy().transpose((1, 2, 0)))\n",
    "ax.axis('off')"
   ]
  },
  {
   "cell_type": "markdown",
   "metadata": {},
   "source": [
    "## Define MLP class"
   ]
  },
  {
   "cell_type": "code",
   "execution_count": 141,
   "metadata": {
    "collapsed": false
   },
   "outputs": [
    {
     "name": "stdout",
     "output_type": "stream",
     "text": [
      "Perceptron(\n",
      "  (fc1): Linear(in_features=784, out_features=512, bias=True)\n",
      "  (fc2): Linear(in_features=512, out_features=512, bias=True)\n",
      "  (fc3): Linear(in_features=512, out_features=10, bias=True)\n",
      "  (dropout): Dropout(p=0.2)\n",
      ")\n"
     ]
    }
   ],
   "source": [
    "class Perceptron(nn.Module):\n",
    "    def __init__(self):\n",
    "        super(Perceptron,self).__init__()\n",
    "        hidden_1 = 512\n",
    "        hidden_2 = 512\n",
    "        self.fc1 = nn.Linear(28*28,hidden_1)\n",
    "        self.fc2 = nn.Linear(hidden_1,hidden_2)\n",
    "        self.fc3 = nn.Linear(hidden_2,10)\n",
    "        self.dropout = nn.Dropout(.2)\n",
    "    def forward(self,x):\n",
    "        #flatten the image input : convert tensor (batch_size, 1, 28, 28) --> (batch_size, 1*28*28)\n",
    "        x = x.view(-1,28*28)\n",
    "        x = F.relu(self.fc1(x))\n",
    "        x = self.dropout(x)\n",
    "        x = F.relu(self.fc2(x))\n",
    "        x = self.dropout(x)\n",
    "        x = self.fc3(x)\n",
    "        return x\n",
    "    \n",
    "        \n",
    "# initialize the NN\n",
    "model = Perceptron()\n",
    "print(model)\n",
    "        "
   ]
  },
  {
   "cell_type": "code",
   "execution_count": 147,
   "metadata": {
    "collapsed": true
   },
   "outputs": [],
   "source": [
    "\n",
    "# specify loss function (categorical cross-entropy)\n",
    "criterion = nn.CrossEntropyLoss()\n",
    "\n",
    "# specify optimizer (stochastic gradient descent) and learning rate = 0.01\n",
    "optimizer = torch.optim.SGD(model.parameters(), lr=0.01)"
   ]
  },
  {
   "cell_type": "markdown",
   "metadata": {},
   "source": [
    "## The steps for training/learning from a batch of data are described in the comments below:\n",
    "\n",
    "1. Clear the gradients of all optimized variables\n",
    "2. Forward pass: compute predicted outputs by passing inputs to the model\n",
    "3. Calculate the loss\n",
    "4. Backward pass: compute gradient of the loss with respect to model parameters\n",
    "5. Perform a single optimization step (parameter update)\n",
    "6. Update average training loss"
   ]
  },
  {
   "cell_type": "code",
   "execution_count": 150,
   "metadata": {
    "collapsed": false
   },
   "outputs": [
    {
     "name": "stdout",
     "output_type": "stream",
     "text": [
      "Epoch: 1 \tTraining Loss: 0.327210 \tValidation Loss: 0.272330\n",
      "Validation loss decreased (inf --> 0.272330).  Saving model ...\n",
      "Epoch: 2 \tTraining Loss: 0.280806 \tValidation Loss: 0.236181\n",
      "Validation loss decreased (0.272330 --> 0.236181).  Saving model ...\n",
      "Epoch: 3 \tTraining Loss: 0.245321 \tValidation Loss: 0.212075\n",
      "Validation loss decreased (0.236181 --> 0.212075).  Saving model ...\n",
      "Epoch: 4 \tTraining Loss: 0.213430 \tValidation Loss: 0.188937\n",
      "Validation loss decreased (0.212075 --> 0.188937).  Saving model ...\n",
      "Epoch: 5 \tTraining Loss: 0.190235 \tValidation Loss: 0.172829\n",
      "Validation loss decreased (0.188937 --> 0.172829).  Saving model ...\n",
      "Epoch: 6 \tTraining Loss: 0.169817 \tValidation Loss: 0.158091\n",
      "Validation loss decreased (0.172829 --> 0.158091).  Saving model ...\n",
      "Epoch: 7 \tTraining Loss: 0.154919 \tValidation Loss: 0.146348\n",
      "Validation loss decreased (0.158091 --> 0.146348).  Saving model ...\n",
      "Epoch: 8 \tTraining Loss: 0.140575 \tValidation Loss: 0.135410\n",
      "Validation loss decreased (0.146348 --> 0.135410).  Saving model ...\n",
      "Epoch: 9 \tTraining Loss: 0.128933 \tValidation Loss: 0.127185\n",
      "Validation loss decreased (0.135410 --> 0.127185).  Saving model ...\n",
      "Epoch: 10 \tTraining Loss: 0.119207 \tValidation Loss: 0.122815\n",
      "Validation loss decreased (0.127185 --> 0.122815).  Saving model ...\n",
      "Epoch: 11 \tTraining Loss: 0.110749 \tValidation Loss: 0.118806\n",
      "Validation loss decreased (0.122815 --> 0.118806).  Saving model ...\n",
      "Epoch: 12 \tTraining Loss: 0.101227 \tValidation Loss: 0.110140\n",
      "Validation loss decreased (0.118806 --> 0.110140).  Saving model ...\n",
      "Epoch: 13 \tTraining Loss: 0.095388 \tValidation Loss: 0.105341\n",
      "Validation loss decreased (0.110140 --> 0.105341).  Saving model ...\n",
      "Epoch: 14 \tTraining Loss: 0.089554 \tValidation Loss: 0.102082\n",
      "Validation loss decreased (0.105341 --> 0.102082).  Saving model ...\n",
      "Epoch: 15 \tTraining Loss: 0.082987 \tValidation Loss: 0.099164\n",
      "Validation loss decreased (0.102082 --> 0.099164).  Saving model ...\n",
      "Epoch: 16 \tTraining Loss: 0.076766 \tValidation Loss: 0.097423\n",
      "Validation loss decreased (0.099164 --> 0.097423).  Saving model ...\n",
      "Epoch: 17 \tTraining Loss: 0.073370 \tValidation Loss: 0.092868\n",
      "Validation loss decreased (0.097423 --> 0.092868).  Saving model ...\n",
      "Epoch: 18 \tTraining Loss: 0.069197 \tValidation Loss: 0.091149\n",
      "Validation loss decreased (0.092868 --> 0.091149).  Saving model ...\n",
      "Epoch: 19 \tTraining Loss: 0.064679 \tValidation Loss: 0.089312\n",
      "Validation loss decreased (0.091149 --> 0.089312).  Saving model ...\n",
      "Epoch: 20 \tTraining Loss: 0.060872 \tValidation Loss: 0.087526\n",
      "Validation loss decreased (0.089312 --> 0.087526).  Saving model ...\n",
      "Epoch: 21 \tTraining Loss: 0.057223 \tValidation Loss: 0.086912\n",
      "Validation loss decreased (0.087526 --> 0.086912).  Saving model ...\n",
      "Epoch: 22 \tTraining Loss: 0.055197 \tValidation Loss: 0.084913\n",
      "Validation loss decreased (0.086912 --> 0.084913).  Saving model ...\n",
      "Epoch: 23 \tTraining Loss: 0.051412 \tValidation Loss: 0.083365\n",
      "Validation loss decreased (0.084913 --> 0.083365).  Saving model ...\n",
      "Epoch: 24 \tTraining Loss: 0.049226 \tValidation Loss: 0.084531\n",
      "Epoch: 25 \tTraining Loss: 0.047940 \tValidation Loss: 0.080781\n",
      "Validation loss decreased (0.083365 --> 0.080781).  Saving model ...\n",
      "Epoch: 26 \tTraining Loss: 0.044102 \tValidation Loss: 0.080041\n",
      "Validation loss decreased (0.080781 --> 0.080041).  Saving model ...\n",
      "Epoch: 27 \tTraining Loss: 0.042375 \tValidation Loss: 0.079904\n",
      "Validation loss decreased (0.080041 --> 0.079904).  Saving model ...\n",
      "Epoch: 28 \tTraining Loss: 0.039764 \tValidation Loss: 0.079364\n",
      "Validation loss decreased (0.079904 --> 0.079364).  Saving model ...\n",
      "Epoch: 29 \tTraining Loss: 0.037651 \tValidation Loss: 0.077873\n",
      "Validation loss decreased (0.079364 --> 0.077873).  Saving model ...\n",
      "Epoch: 30 \tTraining Loss: 0.035275 \tValidation Loss: 0.077031\n",
      "Validation loss decreased (0.077873 --> 0.077031).  Saving model ...\n",
      "Epoch: 31 \tTraining Loss: 0.035804 \tValidation Loss: 0.077569\n",
      "Epoch: 32 \tTraining Loss: 0.031172 \tValidation Loss: 0.077211\n",
      "Epoch: 33 \tTraining Loss: 0.031132 \tValidation Loss: 0.076952\n",
      "Validation loss decreased (0.077031 --> 0.076952).  Saving model ...\n",
      "Epoch: 34 \tTraining Loss: 0.030274 \tValidation Loss: 0.076683\n",
      "Validation loss decreased (0.076952 --> 0.076683).  Saving model ...\n",
      "Epoch: 35 \tTraining Loss: 0.028337 \tValidation Loss: 0.076840\n",
      "Epoch: 36 \tTraining Loss: 0.027738 \tValidation Loss: 0.078978\n",
      "Epoch: 37 \tTraining Loss: 0.026377 \tValidation Loss: 0.075474\n",
      "Validation loss decreased (0.076683 --> 0.075474).  Saving model ...\n",
      "Epoch: 38 \tTraining Loss: 0.024367 \tValidation Loss: 0.074949\n",
      "Validation loss decreased (0.075474 --> 0.074949).  Saving model ...\n",
      "Epoch: 39 \tTraining Loss: 0.024012 \tValidation Loss: 0.074952\n",
      "Epoch: 40 \tTraining Loss: 0.024049 \tValidation Loss: 0.074499\n",
      "Validation loss decreased (0.074949 --> 0.074499).  Saving model ...\n",
      "Epoch: 41 \tTraining Loss: 0.023106 \tValidation Loss: 0.074617\n",
      "Epoch: 42 \tTraining Loss: 0.021241 \tValidation Loss: 0.074454\n",
      "Validation loss decreased (0.074499 --> 0.074454).  Saving model ...\n",
      "Epoch: 43 \tTraining Loss: 0.020364 \tValidation Loss: 0.074387\n",
      "Validation loss decreased (0.074454 --> 0.074387).  Saving model ...\n",
      "Epoch: 44 \tTraining Loss: 0.019793 \tValidation Loss: 0.073997\n",
      "Validation loss decreased (0.074387 --> 0.073997).  Saving model ...\n",
      "Epoch: 45 \tTraining Loss: 0.019932 \tValidation Loss: 0.074226\n",
      "Epoch: 46 \tTraining Loss: 0.018475 \tValidation Loss: 0.075096\n",
      "Epoch: 47 \tTraining Loss: 0.017021 \tValidation Loss: 0.074440\n",
      "Epoch: 48 \tTraining Loss: 0.016338 \tValidation Loss: 0.074922\n",
      "Epoch: 49 \tTraining Loss: 0.017010 \tValidation Loss: 0.073426\n",
      "Validation loss decreased (0.073997 --> 0.073426).  Saving model ...\n",
      "Epoch: 50 \tTraining Loss: 0.015877 \tValidation Loss: 0.074996\n"
     ]
    }
   ],
   "source": [
    "n_epochs = 50\n",
    "\n",
    "# initialize tracker for minimum validation loss\n",
    "valid_loss_min = np.Inf # set initial \"min\" to infinity\n",
    "\n",
    "for epoch in range(n_epochs):\n",
    "    # monitor training loss\n",
    "    train_loss = 0.0\n",
    "    valid_loss = 0.0\n",
    "    \n",
    "    ###################\n",
    "    # train the model #\n",
    "    ###################\n",
    "    model.train() # prep model for training\n",
    "    for data, target in train_loader:\n",
    "        # clear the gradients of all optimized variables\n",
    "        optimizer.zero_grad()\n",
    "        # forward pass: compute predicted outputs by passing inputs to the model\n",
    "        output = model(data)\n",
    "        # calculate the loss\n",
    "        loss = criterion(output, target)\n",
    "        # backward pass: compute gradient of the loss with respect to model parameters\n",
    "        loss.backward()\n",
    "        # perform a single optimization step (parameter update)\n",
    "        optimizer.step()\n",
    "        # update running training loss\n",
    "        train_loss += loss.item()*data.size(0)\n",
    "        \n",
    "    ######################    \n",
    "    # validate the model #\n",
    "    ######################\n",
    "    model.eval() # prep model for evaluation\n",
    "    for data, target in validation_loader:\n",
    "        # forward pass: compute predicted outputs by passing inputs to the model\n",
    "        output = model(data)\n",
    "        # calculate the loss\n",
    "        loss = criterion(output, target)\n",
    "        # update running validation loss \n",
    "        valid_loss += loss.item()*data.size(0)\n",
    "        \n",
    "    # print training/validation statistics \n",
    "    # calculate average loss over an epoch\n",
    "    train_loss = train_loss/len(train_loader.sampler)\n",
    "    valid_loss = valid_loss/len(validation_loader.sampler)\n",
    "    \n",
    "    print('Epoch: {} \\tTraining Loss: {:.6f} \\tValidation Loss: {:.6f}'.format(\n",
    "        epoch+1, \n",
    "        train_loss,\n",
    "        valid_loss\n",
    "        ))\n",
    "    \n",
    "    # save model if validation loss has decreased\n",
    "    if valid_loss <= valid_loss_min:\n",
    "        print('Validation loss decreased ({:.6f} --> {:.6f}).  Saving model ...'.format(\n",
    "        valid_loss_min,\n",
    "        valid_loss))\n",
    "        torch.save(model.state_dict(), 'model.pt')\n",
    "        valid_loss_min = valid_loss"
   ]
  }
 ],
 "metadata": {
  "kernelspec": {
   "display_name": "Python 3",
   "language": "python",
   "name": "python3"
  },
  "language_info": {
   "codemirror_mode": {
    "name": "ipython",
    "version": 3
   },
   "file_extension": ".py",
   "mimetype": "text/x-python",
   "name": "python",
   "nbconvert_exporter": "python",
   "pygments_lexer": "ipython3",
   "version": "3.6.3"
  }
 },
 "nbformat": 4,
 "nbformat_minor": 2
}
